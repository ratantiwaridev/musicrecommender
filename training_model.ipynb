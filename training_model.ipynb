{
 "cells": [
  {
   "cell_type": "code",
   "execution_count": 2,
   "id": "16036b20-4312-42d6-8cae-25e77c303bc7",
   "metadata": {},
   "outputs": [],
   "source": [
    "import pandas as pd"
   ]
  },
  {
   "cell_type": "code",
   "execution_count": 3,
   "id": "6a0cfc76-a6d8-456c-aa90-4d2d040db3c5",
   "metadata": {},
   "outputs": [],
   "source": [
    "#training data from kaggle\n",
    "df = pd.read_csv(\"spotify_millsongdata.csv\")"
   ]
  },
  {
   "cell_type": "code",
   "execution_count": 4,
   "id": "815dcc6d-2004-4743-a112-41e889c8831c",
   "metadata": {},
   "outputs": [
    {
     "data": {
      "text/html": [
       "<div>\n",
       "<style scoped>\n",
       "    .dataframe tbody tr th:only-of-type {\n",
       "        vertical-align: middle;\n",
       "    }\n",
       "\n",
       "    .dataframe tbody tr th {\n",
       "        vertical-align: top;\n",
       "    }\n",
       "\n",
       "    .dataframe thead th {\n",
       "        text-align: right;\n",
       "    }\n",
       "</style>\n",
       "<table border=\"1\" class=\"dataframe\">\n",
       "  <thead>\n",
       "    <tr style=\"text-align: right;\">\n",
       "      <th></th>\n",
       "      <th>artist</th>\n",
       "      <th>song</th>\n",
       "      <th>link</th>\n",
       "      <th>text</th>\n",
       "    </tr>\n",
       "  </thead>\n",
       "  <tbody>\n",
       "    <tr>\n",
       "      <th>0</th>\n",
       "      <td>ABBA</td>\n",
       "      <td>Ahe's My Kind Of Girl</td>\n",
       "      <td>/a/abba/ahes+my+kind+of+girl_20598417.html</td>\n",
       "      <td>Look at her face, it's a wonderful face  \\r\\nA...</td>\n",
       "    </tr>\n",
       "    <tr>\n",
       "      <th>1</th>\n",
       "      <td>ABBA</td>\n",
       "      <td>Andante, Andante</td>\n",
       "      <td>/a/abba/andante+andante_20002708.html</td>\n",
       "      <td>Take it easy with me, please  \\r\\nTouch me gen...</td>\n",
       "    </tr>\n",
       "    <tr>\n",
       "      <th>2</th>\n",
       "      <td>ABBA</td>\n",
       "      <td>As Good As New</td>\n",
       "      <td>/a/abba/as+good+as+new_20003033.html</td>\n",
       "      <td>I'll never know why I had to go  \\r\\nWhy I had...</td>\n",
       "    </tr>\n",
       "    <tr>\n",
       "      <th>3</th>\n",
       "      <td>ABBA</td>\n",
       "      <td>Bang</td>\n",
       "      <td>/a/abba/bang_20598415.html</td>\n",
       "      <td>Making somebody happy is a question of give an...</td>\n",
       "    </tr>\n",
       "    <tr>\n",
       "      <th>4</th>\n",
       "      <td>ABBA</td>\n",
       "      <td>Bang-A-Boomerang</td>\n",
       "      <td>/a/abba/bang+a+boomerang_20002668.html</td>\n",
       "      <td>Making somebody happy is a question of give an...</td>\n",
       "    </tr>\n",
       "  </tbody>\n",
       "</table>\n",
       "</div>"
      ],
      "text/plain": [
       "  artist                   song                                        link  \\\n",
       "0   ABBA  Ahe's My Kind Of Girl  /a/abba/ahes+my+kind+of+girl_20598417.html   \n",
       "1   ABBA       Andante, Andante       /a/abba/andante+andante_20002708.html   \n",
       "2   ABBA         As Good As New        /a/abba/as+good+as+new_20003033.html   \n",
       "3   ABBA                   Bang                  /a/abba/bang_20598415.html   \n",
       "4   ABBA       Bang-A-Boomerang      /a/abba/bang+a+boomerang_20002668.html   \n",
       "\n",
       "                                                text  \n",
       "0  Look at her face, it's a wonderful face  \\r\\nA...  \n",
       "1  Take it easy with me, please  \\r\\nTouch me gen...  \n",
       "2  I'll never know why I had to go  \\r\\nWhy I had...  \n",
       "3  Making somebody happy is a question of give an...  \n",
       "4  Making somebody happy is a question of give an...  "
      ]
     },
     "execution_count": 4,
     "metadata": {},
     "output_type": "execute_result"
    }
   ],
   "source": [
    "df.head(5)"
   ]
  },
  {
   "cell_type": "code",
   "execution_count": 5,
   "id": "0d808e8f-dea7-4648-97ba-77522ea4c7f7",
   "metadata": {},
   "outputs": [
    {
     "data": {
      "text/plain": [
       "artist    0\n",
       "song      0\n",
       "link      0\n",
       "text      0\n",
       "dtype: int64"
      ]
     },
     "execution_count": 5,
     "metadata": {},
     "output_type": "execute_result"
    }
   ],
   "source": [
    "#checking for null values\n",
    "df.isnull().sum()"
   ]
  },
  {
   "cell_type": "code",
   "execution_count": 6,
   "id": "30169955-ce59-48c9-b23c-b862f60a6af4",
   "metadata": {},
   "outputs": [
    {
     "data": {
      "text/plain": [
       "(57650, 4)"
      ]
     },
     "execution_count": 6,
     "metadata": {},
     "output_type": "execute_result"
    }
   ],
   "source": [
    "df.shape\n"
   ]
  },
  {
   "cell_type": "code",
   "execution_count": 7,
   "id": "d3e3c47a-b891-4430-9f86-96bda7561028",
   "metadata": {},
   "outputs": [],
   "source": [
    "#taking a sample due to gpu overhead\n",
    "df=df.sample(5000)"
   ]
  },
  {
   "cell_type": "code",
   "execution_count": 8,
   "id": "c0632add-0231-40af-be20-be1df6d79e28",
   "metadata": {},
   "outputs": [
    {
     "data": {
      "text/plain": [
       "(5000, 4)"
      ]
     },
     "execution_count": 8,
     "metadata": {},
     "output_type": "execute_result"
    }
   ],
   "source": [
    "df.shape"
   ]
  },
  {
   "cell_type": "code",
   "execution_count": 9,
   "id": "3bab6669-d955-4555-aff1-624698ce6407",
   "metadata": {},
   "outputs": [],
   "source": [
    "#dropping link column\n",
    "df=df.drop('link',axis=1).reset_index(drop=True)"
   ]
  },
  {
   "cell_type": "code",
   "execution_count": 10,
   "id": "ff5c7a0c-bca8-49b5-a289-1238b3310d8c",
   "metadata": {},
   "outputs": [
    {
     "data": {
      "text/html": [
       "<div>\n",
       "<style scoped>\n",
       "    .dataframe tbody tr th:only-of-type {\n",
       "        vertical-align: middle;\n",
       "    }\n",
       "\n",
       "    .dataframe tbody tr th {\n",
       "        vertical-align: top;\n",
       "    }\n",
       "\n",
       "    .dataframe thead th {\n",
       "        text-align: right;\n",
       "    }\n",
       "</style>\n",
       "<table border=\"1\" class=\"dataframe\">\n",
       "  <thead>\n",
       "    <tr style=\"text-align: right;\">\n",
       "      <th></th>\n",
       "      <th>artist</th>\n",
       "      <th>song</th>\n",
       "      <th>text</th>\n",
       "    </tr>\n",
       "  </thead>\n",
       "  <tbody>\n",
       "    <tr>\n",
       "      <th>4990</th>\n",
       "      <td>Johnny Cash</td>\n",
       "      <td>Girl In Saskatoon</td>\n",
       "      <td>I left a little town  \\r\\nA little south of Hu...</td>\n",
       "    </tr>\n",
       "    <tr>\n",
       "      <th>4991</th>\n",
       "      <td>New Order</td>\n",
       "      <td>Doubts Even Here</td>\n",
       "      <td>Those steps which seem to take a lifetime  \\r\\...</td>\n",
       "    </tr>\n",
       "    <tr>\n",
       "      <th>4992</th>\n",
       "      <td>Scorpions</td>\n",
       "      <td>Wild Child</td>\n",
       "      <td>Don't hear the phone that rings  \\r\\nI know th...</td>\n",
       "    </tr>\n",
       "    <tr>\n",
       "      <th>4993</th>\n",
       "      <td>Incubus</td>\n",
       "      <td>While All The Vultures Feed</td>\n",
       "      <td>The future is on fire  \\r\\nOf a dying breed.  ...</td>\n",
       "    </tr>\n",
       "    <tr>\n",
       "      <th>4994</th>\n",
       "      <td>Britney Spears</td>\n",
       "      <td>Hang Up</td>\n",
       "      <td>Baby, I'm Lying all alone,  \\r\\nThe pillow is ...</td>\n",
       "    </tr>\n",
       "    <tr>\n",
       "      <th>4995</th>\n",
       "      <td>Diana Ross</td>\n",
       "      <td>Love Is Here And Now You're Gone</td>\n",
       "      <td>Love is here  \\r\\n(Love is here)  \\r\\nAnd oh m...</td>\n",
       "    </tr>\n",
       "    <tr>\n",
       "      <th>4996</th>\n",
       "      <td>Madonna</td>\n",
       "      <td>Buenos Aires</td>\n",
       "      <td>(Eva:)  \\r\\nWhat's new Buenos Aires?  \\r\\nI'm ...</td>\n",
       "    </tr>\n",
       "    <tr>\n",
       "      <th>4997</th>\n",
       "      <td>Clash</td>\n",
       "      <td>Lose This Skin</td>\n",
       "      <td>Come with me. I won't hide  \\r\\nWe're going on...</td>\n",
       "    </tr>\n",
       "    <tr>\n",
       "      <th>4998</th>\n",
       "      <td>Regine Velasquez</td>\n",
       "      <td>Hagkan</td>\n",
       "      <td>I.  \\r\\nHagkan at iyong pagmasdan  \\r\\nAng ati...</td>\n",
       "    </tr>\n",
       "    <tr>\n",
       "      <th>4999</th>\n",
       "      <td>Wanda Jackson</td>\n",
       "      <td>In The Middle Of A Heartache</td>\n",
       "      <td>I'm in the middle of a heartache half out half...</td>\n",
       "    </tr>\n",
       "  </tbody>\n",
       "</table>\n",
       "</div>"
      ],
      "text/plain": [
       "                artist                              song  \\\n",
       "4990       Johnny Cash                 Girl In Saskatoon   \n",
       "4991         New Order                  Doubts Even Here   \n",
       "4992         Scorpions                        Wild Child   \n",
       "4993           Incubus       While All The Vultures Feed   \n",
       "4994    Britney Spears                           Hang Up   \n",
       "4995        Diana Ross  Love Is Here And Now You're Gone   \n",
       "4996           Madonna                      Buenos Aires   \n",
       "4997             Clash                    Lose This Skin   \n",
       "4998  Regine Velasquez                            Hagkan   \n",
       "4999     Wanda Jackson      In The Middle Of A Heartache   \n",
       "\n",
       "                                                   text  \n",
       "4990  I left a little town  \\r\\nA little south of Hu...  \n",
       "4991  Those steps which seem to take a lifetime  \\r\\...  \n",
       "4992  Don't hear the phone that rings  \\r\\nI know th...  \n",
       "4993  The future is on fire  \\r\\nOf a dying breed.  ...  \n",
       "4994  Baby, I'm Lying all alone,  \\r\\nThe pillow is ...  \n",
       "4995  Love is here  \\r\\n(Love is here)  \\r\\nAnd oh m...  \n",
       "4996  (Eva:)  \\r\\nWhat's new Buenos Aires?  \\r\\nI'm ...  \n",
       "4997  Come with me. I won't hide  \\r\\nWe're going on...  \n",
       "4998  I.  \\r\\nHagkan at iyong pagmasdan  \\r\\nAng ati...  \n",
       "4999  I'm in the middle of a heartache half out half...  "
      ]
     },
     "execution_count": 10,
     "metadata": {},
     "output_type": "execute_result"
    }
   ],
   "source": [
    "df.tail(10)"
   ]
  },
  {
   "cell_type": "markdown",
   "id": "306ff3da-8e38-4473-a966-f6063640a02a",
   "metadata": {},
   "source": [
    "Text cleaning /Text Processing"
   ]
  },
  {
   "cell_type": "code",
   "execution_count": 11,
   "id": "897aa5e8-780a-4c29-9a08-f690e7b45036",
   "metadata": {},
   "outputs": [],
   "source": [
    "df['text']=df['text'].str.lower().replace(r'^\\w\\s',' ',regex=True).replace(r'\\n',' ',regex=True)"
   ]
  },
  {
   "cell_type": "code",
   "execution_count": 12,
   "id": "df141742-0005-414a-8c0e-a1c28d4a08f8",
   "metadata": {},
   "outputs": [
    {
     "data": {
      "text/html": [
       "<div>\n",
       "<style scoped>\n",
       "    .dataframe tbody tr th:only-of-type {\n",
       "        vertical-align: middle;\n",
       "    }\n",
       "\n",
       "    .dataframe tbody tr th {\n",
       "        vertical-align: top;\n",
       "    }\n",
       "\n",
       "    .dataframe thead th {\n",
       "        text-align: right;\n",
       "    }\n",
       "</style>\n",
       "<table border=\"1\" class=\"dataframe\">\n",
       "  <thead>\n",
       "    <tr style=\"text-align: right;\">\n",
       "      <th></th>\n",
       "      <th>artist</th>\n",
       "      <th>song</th>\n",
       "      <th>text</th>\n",
       "    </tr>\n",
       "  </thead>\n",
       "  <tbody>\n",
       "    <tr>\n",
       "      <th>0</th>\n",
       "      <td>Korn</td>\n",
       "      <td>Lullaby For A Sadist</td>\n",
       "      <td>it's easy i walk the circle i come down long a...</td>\n",
       "    </tr>\n",
       "    <tr>\n",
       "      <th>1</th>\n",
       "      <td>LL Cool J</td>\n",
       "      <td>The Power Of God</td>\n",
       "      <td>something real smooth  \\r yeah, yeah  \\r yeah ...</td>\n",
       "    </tr>\n",
       "    <tr>\n",
       "      <th>2</th>\n",
       "      <td>Horrible Histories</td>\n",
       "      <td>Pachacuti</td>\n",
       "      <td>i'm pachacuti, the incan lord  \\r all other tr...</td>\n",
       "    </tr>\n",
       "    <tr>\n",
       "      <th>3</th>\n",
       "      <td>James Taylor</td>\n",
       "      <td>The Promised Land</td>\n",
       "      <td>left my home in norfolk, virginia, california ...</td>\n",
       "    </tr>\n",
       "    <tr>\n",
       "      <th>4</th>\n",
       "      <td>Celine Dion</td>\n",
       "      <td>All Because Of You</td>\n",
       "      <td>thought i could define it  \\r one look in your...</td>\n",
       "    </tr>\n",
       "    <tr>\n",
       "      <th>...</th>\n",
       "      <td>...</td>\n",
       "      <td>...</td>\n",
       "      <td>...</td>\n",
       "    </tr>\n",
       "    <tr>\n",
       "      <th>4995</th>\n",
       "      <td>Diana Ross</td>\n",
       "      <td>Love Is Here And Now You're Gone</td>\n",
       "      <td>love is here  \\r (love is here)  \\r and oh my ...</td>\n",
       "    </tr>\n",
       "    <tr>\n",
       "      <th>4996</th>\n",
       "      <td>Madonna</td>\n",
       "      <td>Buenos Aires</td>\n",
       "      <td>(eva:)  \\r what's new buenos aires?  \\r i'm ne...</td>\n",
       "    </tr>\n",
       "    <tr>\n",
       "      <th>4997</th>\n",
       "      <td>Clash</td>\n",
       "      <td>Lose This Skin</td>\n",
       "      <td>come with me. i won't hide  \\r we're going on ...</td>\n",
       "    </tr>\n",
       "    <tr>\n",
       "      <th>4998</th>\n",
       "      <td>Regine Velasquez</td>\n",
       "      <td>Hagkan</td>\n",
       "      <td>i.  \\r hagkan at iyong pagmasdan  \\r ang ating...</td>\n",
       "    </tr>\n",
       "    <tr>\n",
       "      <th>4999</th>\n",
       "      <td>Wanda Jackson</td>\n",
       "      <td>In The Middle Of A Heartache</td>\n",
       "      <td>i'm in the middle of a heartache half out half...</td>\n",
       "    </tr>\n",
       "  </tbody>\n",
       "</table>\n",
       "<p>5000 rows × 3 columns</p>\n",
       "</div>"
      ],
      "text/plain": [
       "                  artist                              song  \\\n",
       "0                   Korn              Lullaby For A Sadist   \n",
       "1              LL Cool J                  The Power Of God   \n",
       "2     Horrible Histories                         Pachacuti   \n",
       "3           James Taylor                 The Promised Land   \n",
       "4            Celine Dion                All Because Of You   \n",
       "...                  ...                               ...   \n",
       "4995          Diana Ross  Love Is Here And Now You're Gone   \n",
       "4996             Madonna                      Buenos Aires   \n",
       "4997               Clash                    Lose This Skin   \n",
       "4998    Regine Velasquez                            Hagkan   \n",
       "4999       Wanda Jackson      In The Middle Of A Heartache   \n",
       "\n",
       "                                                   text  \n",
       "0     it's easy i walk the circle i come down long a...  \n",
       "1     something real smooth  \\r yeah, yeah  \\r yeah ...  \n",
       "2     i'm pachacuti, the incan lord  \\r all other tr...  \n",
       "3     left my home in norfolk, virginia, california ...  \n",
       "4     thought i could define it  \\r one look in your...  \n",
       "...                                                 ...  \n",
       "4995  love is here  \\r (love is here)  \\r and oh my ...  \n",
       "4996  (eva:)  \\r what's new buenos aires?  \\r i'm ne...  \n",
       "4997  come with me. i won't hide  \\r we're going on ...  \n",
       "4998  i.  \\r hagkan at iyong pagmasdan  \\r ang ating...  \n",
       "4999  i'm in the middle of a heartache half out half...  \n",
       "\n",
       "[5000 rows x 3 columns]"
      ]
     },
     "execution_count": 12,
     "metadata": {},
     "output_type": "execute_result"
    }
   ],
   "source": [
    "df"
   ]
  },
  {
   "cell_type": "markdown",
   "id": "04f24b33-b264-42a7-a524-a981be3f6976",
   "metadata": {},
   "source": [
    "1Tokenizing->2stopwards removal->3 stemming"
   ]
  },
  {
   "cell_type": "code",
   "execution_count": 13,
   "id": "a7f5fb2e-0cc1-465c-8859-041a11d2066b",
   "metadata": {},
   "outputs": [],
   "source": [
    "import nltk\n",
    "from nltk.stem.porter import PorterStemmer"
   ]
  },
  {
   "cell_type": "code",
   "execution_count": 14,
   "id": "36f154c1-ca93-476e-8f00-2e28fdccbcf5",
   "metadata": {},
   "outputs": [],
   "source": [
    "stemmer=PorterStemmer()"
   ]
  },
  {
   "cell_type": "code",
   "execution_count": 15,
   "id": "873767b3-71ab-4916-9376-4b4072479966",
   "metadata": {},
   "outputs": [
    {
     "name": "stderr",
     "output_type": "stream",
     "text": [
      "[nltk_data] Downloading package punkt to\n",
      "[nltk_data]     C:\\Users\\ratan\\AppData\\Roaming\\nltk_data...\n",
      "[nltk_data]   Package punkt is already up-to-date!\n",
      "[nltk_data] Downloading package punkt_tab to\n",
      "[nltk_data]     C:\\Users\\ratan\\AppData\\Roaming\\nltk_data...\n",
      "[nltk_data]   Package punkt_tab is already up-to-date!\n"
     ]
    },
    {
     "data": {
      "text/plain": [
       "True"
      ]
     },
     "execution_count": 15,
     "metadata": {},
     "output_type": "execute_result"
    }
   ],
   "source": [
    "nltk.download('punkt')\n",
    "nltk.download('punkt_tab')"
   ]
  },
  {
   "cell_type": "markdown",
   "id": "6ab64f9d-b6ff-4e68-90eb-b571fa83a4df",
   "metadata": {},
   "source": [
    "Not used stopwords till now"
   ]
  },
  {
   "cell_type": "code",
   "execution_count": 16,
   "id": "bcbbafdb-1bd8-4405-bb0e-4d06a05d0136",
   "metadata": {},
   "outputs": [
    {
     "name": "stderr",
     "output_type": "stream",
     "text": [
      "[nltk_data] Downloading package stopwords to\n",
      "[nltk_data]     C:\\Users\\ratan\\AppData\\Roaming\\nltk_data...\n",
      "[nltk_data]   Package stopwords is already up-to-date!\n"
     ]
    },
    {
     "data": {
      "text/plain": [
       "True"
      ]
     },
     "execution_count": 16,
     "metadata": {},
     "output_type": "execute_result"
    }
   ],
   "source": [
    "nltk.download('stopwords')"
   ]
  },
  {
   "cell_type": "code",
   "execution_count": 17,
   "id": "8ad56099-7c81-463d-8f48-49b40e5573b1",
   "metadata": {},
   "outputs": [],
   "source": [
    "def token(txt):\n",
    "    token=nltk.word_tokenize(txt)\n",
    "    a=[stemmer.stem(w) for w in token]\n",
    "    return \" \".join(a)"
   ]
  },
  {
   "cell_type": "code",
   "execution_count": 18,
   "id": "5d68fab8-d9d8-4504-9398-4702ede290c8",
   "metadata": {},
   "outputs": [
    {
     "data": {
      "text/plain": [
       "'you are beauti , beauti , run'"
      ]
     },
     "execution_count": 18,
     "metadata": {},
     "output_type": "execute_result"
    }
   ],
   "source": [
    "token(\"you are beautiful,beauty,running\")"
   ]
  },
  {
   "cell_type": "markdown",
   "id": "e801b5a8-08c8-4f0e-89bf-40516a6f7285",
   "metadata": {},
   "source": [
    "tokenizing and stemming actual data"
   ]
  },
  {
   "cell_type": "markdown",
   "id": "cc44ac09-f2e5-4a78-bf12-c32f3e9b925c",
   "metadata": {},
   "source": [
    "Tutorial did not stored the stemmed data into df['text']"
   ]
  },
  {
   "cell_type": "code",
   "execution_count": 19,
   "id": "c737e717-ca0a-4a11-8595-dc18d82d8a3c",
   "metadata": {},
   "outputs": [],
   "source": [
    "df['text']=df['text'].apply(lambda x: token(x))"
   ]
  },
  {
   "cell_type": "code",
   "execution_count": 20,
   "id": "9a475124-65a4-4aaa-9c84-3dc8b650e679",
   "metadata": {},
   "outputs": [
    {
     "data": {
      "text/html": [
       "<div>\n",
       "<style scoped>\n",
       "    .dataframe tbody tr th:only-of-type {\n",
       "        vertical-align: middle;\n",
       "    }\n",
       "\n",
       "    .dataframe tbody tr th {\n",
       "        vertical-align: top;\n",
       "    }\n",
       "\n",
       "    .dataframe thead th {\n",
       "        text-align: right;\n",
       "    }\n",
       "</style>\n",
       "<table border=\"1\" class=\"dataframe\">\n",
       "  <thead>\n",
       "    <tr style=\"text-align: right;\">\n",
       "      <th></th>\n",
       "      <th>artist</th>\n",
       "      <th>song</th>\n",
       "      <th>text</th>\n",
       "    </tr>\n",
       "  </thead>\n",
       "  <tbody>\n",
       "    <tr>\n",
       "      <th>0</th>\n",
       "      <td>Korn</td>\n",
       "      <td>Lullaby For A Sadist</td>\n",
       "      <td>it 's easi i walk the circl i come down long a...</td>\n",
       "    </tr>\n",
       "    <tr>\n",
       "      <th>1</th>\n",
       "      <td>LL Cool J</td>\n",
       "      <td>The Power Of God</td>\n",
       "      <td>someth real smooth yeah , yeah yeah we 'll get...</td>\n",
       "    </tr>\n",
       "    <tr>\n",
       "      <th>2</th>\n",
       "      <td>Horrible Histories</td>\n",
       "      <td>Pachacuti</td>\n",
       "      <td>i 'm pachacuti , the incan lord all other trib...</td>\n",
       "    </tr>\n",
       "    <tr>\n",
       "      <th>3</th>\n",
       "      <td>James Taylor</td>\n",
       "      <td>The Promised Land</td>\n",
       "      <td>left my home in norfolk , virginia , californi...</td>\n",
       "    </tr>\n",
       "    <tr>\n",
       "      <th>4</th>\n",
       "      <td>Celine Dion</td>\n",
       "      <td>All Because Of You</td>\n",
       "      <td>thought i could defin it one look in your eye ...</td>\n",
       "    </tr>\n",
       "    <tr>\n",
       "      <th>...</th>\n",
       "      <td>...</td>\n",
       "      <td>...</td>\n",
       "      <td>...</td>\n",
       "    </tr>\n",
       "    <tr>\n",
       "      <th>4995</th>\n",
       "      <td>Diana Ross</td>\n",
       "      <td>Love Is Here And Now You're Gone</td>\n",
       "      <td>love is here ( love is here ) and oh my darl ,...</td>\n",
       "    </tr>\n",
       "    <tr>\n",
       "      <th>4996</th>\n",
       "      <td>Madonna</td>\n",
       "      <td>Buenos Aires</td>\n",
       "      <td>( eva : ) what 's new bueno air ? i 'm new , i...</td>\n",
       "    </tr>\n",
       "    <tr>\n",
       "      <th>4997</th>\n",
       "      <td>Clash</td>\n",
       "      <td>Lose This Skin</td>\n",
       "      <td>come with me . i wo n't hide we 're go on a ri...</td>\n",
       "    </tr>\n",
       "    <tr>\n",
       "      <th>4998</th>\n",
       "      <td>Regine Velasquez</td>\n",
       "      <td>Hagkan</td>\n",
       "      <td>i. hagkan at iyong pagmasdan ang ate kaysang n...</td>\n",
       "    </tr>\n",
       "    <tr>\n",
       "      <th>4999</th>\n",
       "      <td>Wanda Jackson</td>\n",
       "      <td>In The Middle Of A Heartache</td>\n",
       "      <td>i 'm in the middl of a heartach half out half ...</td>\n",
       "    </tr>\n",
       "  </tbody>\n",
       "</table>\n",
       "<p>5000 rows × 3 columns</p>\n",
       "</div>"
      ],
      "text/plain": [
       "                  artist                              song  \\\n",
       "0                   Korn              Lullaby For A Sadist   \n",
       "1              LL Cool J                  The Power Of God   \n",
       "2     Horrible Histories                         Pachacuti   \n",
       "3           James Taylor                 The Promised Land   \n",
       "4            Celine Dion                All Because Of You   \n",
       "...                  ...                               ...   \n",
       "4995          Diana Ross  Love Is Here And Now You're Gone   \n",
       "4996             Madonna                      Buenos Aires   \n",
       "4997               Clash                    Lose This Skin   \n",
       "4998    Regine Velasquez                            Hagkan   \n",
       "4999       Wanda Jackson      In The Middle Of A Heartache   \n",
       "\n",
       "                                                   text  \n",
       "0     it 's easi i walk the circl i come down long a...  \n",
       "1     someth real smooth yeah , yeah yeah we 'll get...  \n",
       "2     i 'm pachacuti , the incan lord all other trib...  \n",
       "3     left my home in norfolk , virginia , californi...  \n",
       "4     thought i could defin it one look in your eye ...  \n",
       "...                                                 ...  \n",
       "4995  love is here ( love is here ) and oh my darl ,...  \n",
       "4996  ( eva : ) what 's new bueno air ? i 'm new , i...  \n",
       "4997  come with me . i wo n't hide we 're go on a ri...  \n",
       "4998  i. hagkan at iyong pagmasdan ang ate kaysang n...  \n",
       "4999  i 'm in the middl of a heartach half out half ...  \n",
       "\n",
       "[5000 rows x 3 columns]"
      ]
     },
     "execution_count": 20,
     "metadata": {},
     "output_type": "execute_result"
    }
   ],
   "source": [
    "df\n"
   ]
  },
  {
   "cell_type": "code",
   "execution_count": 21,
   "id": "af3834dc-22e8-402e-83a2-a15a4419d72a",
   "metadata": {},
   "outputs": [],
   "source": [
    "from sklearn.feature_extraction.text import TfidfVectorizer\n",
    "from sklearn.metrics.pairwise import cosine_similarity"
   ]
  },
  {
   "cell_type": "code",
   "execution_count": 22,
   "id": "60f728c7-ad20-4281-989c-35a47360e8f9",
   "metadata": {},
   "outputs": [],
   "source": [
    "Tfid=TfidfVectorizer(analyzer='word', stop_words='english')"
   ]
  },
  {
   "cell_type": "code",
   "execution_count": 23,
   "id": "83e9532d-1d91-4b45-a08f-b9d254a3eef8",
   "metadata": {},
   "outputs": [],
   "source": [
    "matrix=Tfid.fit_transform(df['text'])"
   ]
  },
  {
   "cell_type": "code",
   "execution_count": 24,
   "id": "869bf5f4-46a4-4660-ba68-fc8411e4b20d",
   "metadata": {},
   "outputs": [],
   "source": [
    "similar=cosine_similarity(matrix)"
   ]
  },
  {
   "cell_type": "code",
   "execution_count": 25,
   "id": "48a1bef6-8aa2-48f2-98a5-ddaee60553f0",
   "metadata": {},
   "outputs": [
    {
     "data": {
      "text/plain": [
       "array([1.        , 0.04591724, 0.011981  , ..., 0.06262385, 0.        ,\n",
       "       0.09172974])"
      ]
     },
     "execution_count": 25,
     "metadata": {},
     "output_type": "execute_result"
    }
   ],
   "source": [
    "similar[0]"
   ]
  },
  {
   "cell_type": "code",
   "execution_count": 26,
   "id": "b05d9c86-fccc-4f25-b22a-6c575cebe168",
   "metadata": {},
   "outputs": [
    {
     "data": {
      "text/plain": [
       "array([0.04591724, 1.        , 0.01841653, ..., 0.05909082, 0.        ,\n",
       "       0.00807995])"
      ]
     },
     "execution_count": 26,
     "metadata": {},
     "output_type": "execute_result"
    }
   ],
   "source": [
    "similar[1]"
   ]
  },
  {
   "cell_type": "code",
   "execution_count": 38,
   "id": "97969e76-cf02-482c-a3b5-7a41b0df3582",
   "metadata": {},
   "outputs": [
    {
     "data": {
      "text/plain": [
       "np.int64(4998)"
      ]
     },
     "execution_count": 38,
     "metadata": {},
     "output_type": "execute_result"
    }
   ],
   "source": [
    "df[df['song']==\"Hagkan\"].index[0]"
   ]
  },
  {
   "cell_type": "markdown",
   "id": "bec07b4b-d7d4-4ae3-8d7e-60ef8506ff5e",
   "metadata": {},
   "source": [
    "Recommender function"
   ]
  },
  {
   "cell_type": "code",
   "execution_count": 55,
   "id": "8e1eec92-4a89-4650-937a-be34e9605c57",
   "metadata": {},
   "outputs": [],
   "source": [
    "def recommender(song_name):\n",
    "    matches=df[df['song'].str.lower() ==song_name.lower()]\n",
    "    if matches.empty:\n",
    "        print(f\"Song '{song_name}' not found in the dataset.\")\n",
    "        return []\n",
    "    idx=matches.index[0]\n",
    "    distance=sorted(list(enumerate(similar[idx])),reverse=True,key=lambda x:x[1])\n",
    "    song=[]\n",
    "    for so_id in distance[1:5]:\n",
    "        song.append(df.iloc[so_id[0]].song)\n",
    "    return song"
   ]
  },
  {
   "cell_type": "code",
   "execution_count": 60,
   "id": "0a9dc2dd-d01d-40cb-b880-663303b349b7",
   "metadata": {
    "scrolled": true
   },
   "outputs": [
    {
     "name": "stdout",
     "output_type": "stream",
     "text": [
      "Song 'god's plan' not found in the dataset.\n"
     ]
    },
    {
     "data": {
      "text/plain": [
       "[]"
      ]
     },
     "execution_count": 60,
     "metadata": {},
     "output_type": "execute_result"
    }
   ],
   "source": [
    "recommender(\"god's plan\")"
   ]
  },
  {
   "cell_type": "code",
   "execution_count": 57,
   "id": "e76bb22b-b52c-424c-8a28-58704afce447",
   "metadata": {},
   "outputs": [],
   "source": [
    "import pickle"
   ]
  },
  {
   "cell_type": "code",
   "execution_count": 58,
   "id": "acfbae26-6ee2-4813-9174-b4feef7c27fc",
   "metadata": {},
   "outputs": [],
   "source": [
    "pickle.dump(similar, open(\"similarity\",\"wb\"))"
   ]
  },
  {
   "cell_type": "code",
   "execution_count": 59,
   "id": "1125f966-811d-4d8c-95d0-6fcb9e98cdb4",
   "metadata": {},
   "outputs": [],
   "source": [
    "pickle.dump(df, open(\"df\",\"wb\"))"
   ]
  },
  {
   "cell_type": "code",
   "execution_count": null,
   "id": "461720eb-aee0-449d-b92b-48a63329a3c4",
   "metadata": {},
   "outputs": [],
   "source": []
  }
 ],
 "metadata": {
  "kernelspec": {
   "display_name": "Python 3 (ipykernel)",
   "language": "python",
   "name": "python3"
  },
  "language_info": {
   "codemirror_mode": {
    "name": "ipython",
    "version": 3
   },
   "file_extension": ".py",
   "mimetype": "text/x-python",
   "name": "python",
   "nbconvert_exporter": "python",
   "pygments_lexer": "ipython3",
   "version": "3.9.1"
  }
 },
 "nbformat": 4,
 "nbformat_minor": 5
}
